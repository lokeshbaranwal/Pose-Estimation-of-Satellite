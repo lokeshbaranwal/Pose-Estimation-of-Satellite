{
  "nbformat": 4,
  "nbformat_minor": 0,
  "metadata": {
    "colab": {
      "name": "SpeedvL.ipynb",
      "version": "0.3.2",
      "provenance": [],
      "collapsed_sections": [],
      "include_colab_link": true
    },
    "kernelspec": {
      "name": "python3",
      "display_name": "Python 3"
    },
    "accelerator": "GPU"
  },
  "cells": [
    {
      "cell_type": "markdown",
      "metadata": {
        "id": "view-in-github",
        "colab_type": "text"
      },
      "source": [
        "<a href=\"https://colab.research.google.com/github/lokeshbaranwal/Pose-Estimation-of-Satellite/blob/master/SpeedvL.ipynb\" target=\"_parent\"><img src=\"https://colab.research.google.com/assets/colab-badge.svg\" alt=\"Open In Colab\"/></a>"
      ]
    },
    {
      "cell_type": "code",
      "metadata": {
        "id": "-KGc77qXZdvp",
        "colab_type": "code",
        "outputId": "7affda6d-bd66-45d3-cbec-e50b5dbb21cb",
        "colab": {
          "base_uri": "https://localhost:8080/",
          "height": 129
        }
      },
      "source": [
        "from google.colab import drive\n",
        "drive.mount('/content/gdrive',force_remount=True)"
      ],
      "execution_count": 4,
      "outputs": [
        {
          "output_type": "stream",
          "text": [
            "Go to this URL in a browser: https://accounts.google.com/o/oauth2/auth?client_id=947318989803-6bn6qk8qdgf4n4g3pfee6491hc0brc4i.apps.googleusercontent.com&redirect_uri=urn%3Aietf%3Awg%3Aoauth%3A2.0%3Aoob&scope=email%20https%3A%2F%2Fwww.googleapis.com%2Fauth%2Fdocs.test%20https%3A%2F%2Fwww.googleapis.com%2Fauth%2Fdrive%20https%3A%2F%2Fwww.googleapis.com%2Fauth%2Fdrive.photos.readonly%20https%3A%2F%2Fwww.googleapis.com%2Fauth%2Fpeopleapi.readonly&response_type=code\n",
            "\n",
            "Enter your authorization code:\n",
            "··········\n",
            "Mounted at /content/gdrive\n"
          ],
          "name": "stdout"
        }
      ]
    },
    {
      "cell_type": "code",
      "metadata": {
        "id": "EXvaq5cyeZbQ",
        "colab_type": "code",
        "colab": {}
      },
      "source": [
        "\n",
        "dataset_root=\"/content/gdrive/My Drive/speed\"\n",
        "import pandas as pd\n",
        "import os\n",
        "import json\n",
        "import numpy as np\n",
        "import keras\n",
        "import tensorflow\n",
        "from keras.preprocessing.image import ImageDataGenerator\n",
        "from keras.applications import ResNet50\n",
        "from keras.applications.resnet50 import preprocess_input\n",
        "from keras.models import Model\n",
        "from keras.layers import Dense,Flatten,BatchNormalization,Dropout,Activation\n",
        "from sklearn.model_selection import train_test_split\n",
        "from numpy import linalg as LA\n",
        "from keras.preprocessing import image"
      ],
      "execution_count": 0,
      "outputs": []
    },
    {
      "cell_type": "code",
      "metadata": {
        "id": "FQTpWUJ8fkim",
        "colab_type": "code",
        "outputId": "995da87d-28e6-410e-afd5-5667cda651ff",
        "colab": {
          "base_uri": "https://localhost:8080/",
          "height": 35
        }
      },
      "source": [
        "with open(os.path.join(dataset_root,'train.json'),'r') as train:\n",
        "  train_json=json.load(train)\n",
        "train_json[0]['q_vbs2tango']\n",
        "#len(train_json)\n",
        "#train_json\n",
        "# q=train_json[i]['q_vbs2tango']\n",
        "# r=train_json[i]['r_Vo2To_vbs_true']\n",
        "# a=q.extend(r)\n"
      ],
      "execution_count": 7,
      "outputs": [
        {
          "output_type": "execute_result",
          "data": {
            "text/plain": [
              "[-0.419541, -0.484436, -0.214179, 0.73718]"
            ]
          },
          "metadata": {
            "tags": []
          },
          "execution_count": 7
        }
      ]
    },
    {
      "cell_type": "code",
      "metadata": {
        "id": "y12IBNK5jVlU",
        "colab_type": "code",
        "colab": {}
      },
      "source": [
        "imgname_list=[]\n",
        "for i in range(len(train_json)):\n",
        "  imgname_list.append(train_json[i]['filename'])\n",
        "\n",
        "#imgname_list"
      ],
      "execution_count": 0,
      "outputs": []
    },
    {
      "cell_type": "code",
      "metadata": {
        "id": "tLbgD2bUlzzM",
        "colab_type": "code",
        "colab": {}
      },
      "source": [
        "label_list=[]\n",
        "q1,q2,q3,q4,r1,r2,r3=[],[],[],[],[],[],[]\n",
        "for i in range(len(train_json)):\n",
        "  q1.append(train_json[i]['q_vbs2tango'][0])\n",
        "  q2.append(train_json[i]['q_vbs2tango'][1])\n",
        "  q3.append(train_json[i]['q_vbs2tango'][2])\n",
        "  q4.append(train_json[i]['q_vbs2tango'][3])\n",
        "  r1.append(train_json[i]['r_Vo2To_vbs_true'][0])\n",
        "  r2.append(train_json[i]['r_Vo2To_vbs_true'][1])\n",
        "  r3.append(train_json[i]['r_Vo2To_vbs_true'][2])\n",
        "  #q.extend(r)\n",
        "  #label_list.append(q)\n",
        "#label_list\n"
      ],
      "execution_count": 0,
      "outputs": []
    },
    {
      "cell_type": "code",
      "metadata": {
        "id": "6Sfy7lfwlMxp",
        "colab_type": "code",
        "outputId": "017ade9f-17bb-4ac0-8528-4d507adad77b",
        "colab": {
          "base_uri": "https://localhost:8080/",
          "height": 35
        }
      },
      "source": [
        "col_dict={'image_names':imgname_list,'q1':q1,'q2':q2,'q3':q3,'q4':q4,'r1':r1,'r2':r2,'r3':r3}\n",
        "df=pd.DataFrame(col_dict)\n",
        "#df['labels']=label_list\n",
        "df_train,df_test=train_test_split(df,test_size=0.2)\n",
        "len(df_test)\n"
      ],
      "execution_count": 10,
      "outputs": [
        {
          "output_type": "execute_result",
          "data": {
            "text/plain": [
              "2400"
            ]
          },
          "metadata": {
            "tags": []
          },
          "execution_count": 10
        }
      ]
    },
    {
      "cell_type": "code",
      "metadata": {
        "id": "AcFFc9ZwsKjT",
        "colab_type": "code",
        "outputId": "c0739ebf-42b5-4c5b-c624-a2a1193b6c1f",
        "colab": {
          "base_uri": "https://localhost:8080/",
          "height": 54
        }
      },
      "source": [
        "path=\"/content/gdrive/My Drive/speed/images/train\"\n",
        "cols=['q1','q2','q3','q4','r1','r2','r3']\n",
        "datagen=ImageDataGenerator(preprocessing_function=preprocess_input)\n",
        "train_generator=datagen.flow_from_dataframe(df_train,directory=path,x_col='image_names',y_col=cols,class_mode='other',target_size=(224,224),batch_size=32,color_mode='rgb')\n",
        "validation_generator=datagen.flow_from_dataframe(df_test,directory=path,x_col='image_names',y_col=cols,class_mode='other',target_size=(224,224),batch_size=32,color_mode='rgb')\n"
      ],
      "execution_count": 12,
      "outputs": [
        {
          "output_type": "stream",
          "text": [
            "Found 9600 validated image filenames.\n",
            "Found 2400 validated image filenames.\n"
          ],
          "name": "stdout"
        }
      ]
    },
    {
      "cell_type": "code",
      "metadata": {
        "id": "PR4M4j0A2aXi",
        "colab_type": "code",
        "outputId": "0ef0705f-8d8e-48be-a759-305450abfdc7",
        "colab": {
          "base_uri": "https://localhost:8080/",
          "height": 35
        }
      },
      "source": [
        "train_generator[0][0][0][0][0][0]"
      ],
      "execution_count": 13,
      "outputs": [
        {
          "output_type": "execute_result",
          "data": {
            "text/plain": [
              "-102.939"
            ]
          },
          "metadata": {
            "tags": []
          },
          "execution_count": 13
        }
      ]
    },
    {
      "cell_type": "code",
      "metadata": {
        "id": "1corPUq8Aq8G",
        "colab_type": "code",
        "outputId": "4289ef47-a5c2-4fef-f797-88604c77d2f9",
        "colab": {
          "base_uri": "https://localhost:8080/",
          "height": 441
        }
      },
      "source": [
        "#Building our model using Transfer Learning\n",
        "#tensorflow.keras.backend.set_learning_phase(0)\n",
        "model_pretrained=ResNet50(weights='imagenet',input_shape=(224,224,3),include_top=False)\n",
        "#tensorflow.keras.backend.set_learning_phase(1)\n",
        "x=model_pretrained.output\n",
        "#x=Flatten()(x)\n",
        "x=Dense(1024)(x)\n",
        "x=BatchNormalization()(x)\n",
        "x=Activation('relu')(x)\n",
        "x=Dropout(0.25)(x)\n",
        "x=Flatten()(x)\n",
        "x=Dense(7,activation='linear')(x)\n",
        "\n",
        "model=Model(inputs=model_pretrained.input,outputs=x)\n",
        "\n",
        "# model.fit_generator(train_generator,steps_per_epoch=step_size_train,validation_data=validation_generator,validation_steps=step_size_valid,epochs=20)\n"
      ],
      "execution_count": 14,
      "outputs": [
        {
          "output_type": "stream",
          "text": [
            "WARNING: Logging before flag parsing goes to stderr.\n",
            "W0720 19:00:55.591558 140571603695488 deprecation_wrapper.py:119] From /usr/local/lib/python3.6/dist-packages/keras/backend/tensorflow_backend.py:74: The name tf.get_default_graph is deprecated. Please use tf.compat.v1.get_default_graph instead.\n",
            "\n",
            "W0720 19:00:55.637830 140571603695488 deprecation_wrapper.py:119] From /usr/local/lib/python3.6/dist-packages/keras/backend/tensorflow_backend.py:517: The name tf.placeholder is deprecated. Please use tf.compat.v1.placeholder instead.\n",
            "\n",
            "W0720 19:00:55.651960 140571603695488 deprecation_wrapper.py:119] From /usr/local/lib/python3.6/dist-packages/keras/backend/tensorflow_backend.py:4185: The name tf.truncated_normal is deprecated. Please use tf.random.truncated_normal instead.\n",
            "\n",
            "W0720 19:00:55.694654 140571603695488 deprecation_wrapper.py:119] From /usr/local/lib/python3.6/dist-packages/keras/backend/tensorflow_backend.py:174: The name tf.get_default_session is deprecated. Please use tf.compat.v1.get_default_session instead.\n",
            "\n",
            "W0720 19:00:55.695897 140571603695488 deprecation_wrapper.py:119] From /usr/local/lib/python3.6/dist-packages/keras/backend/tensorflow_backend.py:181: The name tf.ConfigProto is deprecated. Please use tf.compat.v1.ConfigProto instead.\n",
            "\n",
            "W0720 19:00:58.517069 140571603695488 deprecation_wrapper.py:119] From /usr/local/lib/python3.6/dist-packages/keras/backend/tensorflow_backend.py:1834: The name tf.nn.fused_batch_norm is deprecated. Please use tf.compat.v1.nn.fused_batch_norm instead.\n",
            "\n",
            "W0720 19:00:58.591596 140571603695488 deprecation_wrapper.py:119] From /usr/local/lib/python3.6/dist-packages/keras/backend/tensorflow_backend.py:3976: The name tf.nn.max_pool is deprecated. Please use tf.nn.max_pool2d instead.\n",
            "\n",
            "/usr/local/lib/python3.6/dist-packages/keras_applications/resnet50.py:265: UserWarning: The output shape of `ResNet50(include_top=False)` has been changed since Keras 2.2.0.\n",
            "  warnings.warn('The output shape of `ResNet50(include_top=False)` '\n"
          ],
          "name": "stderr"
        },
        {
          "output_type": "stream",
          "text": [
            "Downloading data from https://github.com/fchollet/deep-learning-models/releases/download/v0.2/resnet50_weights_tf_dim_ordering_tf_kernels_notop.h5\n",
            "94658560/94653016 [==============================] - 1s 0us/step\n"
          ],
          "name": "stdout"
        },
        {
          "output_type": "stream",
          "text": [
            "W0720 19:01:08.175740 140571603695488 deprecation.py:506] From /usr/local/lib/python3.6/dist-packages/keras/backend/tensorflow_backend.py:3445: calling dropout (from tensorflow.python.ops.nn_ops) with keep_prob is deprecated and will be removed in a future version.\n",
            "Instructions for updating:\n",
            "Please use `rate` instead of `keep_prob`. Rate should be set to `rate = 1 - keep_prob`.\n"
          ],
          "name": "stderr"
        }
      ]
    },
    {
      "cell_type": "code",
      "metadata": {
        "id": "PeUjD6qEr9wm",
        "colab_type": "code",
        "colab": {
          "base_uri": "https://localhost:8080/",
          "height": 1000
        },
        "outputId": "e37a3058-d5f6-4ef5-8172-a4832445be2e"
      },
      "source": [
        "for i,j in enumerate(model.layers):\n",
        "  print(i,':',j)\n",
        "for layer in model.layers[:175]:\n",
        "  layer.trainable=False\n",
        "for layer in model.layers[175:]:\n",
        "  layer.trainable=True"
      ],
      "execution_count": 15,
      "outputs": [
        {
          "output_type": "stream",
          "text": [
            "0 : <keras.engine.input_layer.InputLayer object at 0x7fd90a166588>\n",
            "1 : <keras.layers.convolutional.ZeroPadding2D object at 0x7fd90a166978>\n",
            "2 : <keras.layers.convolutional.Conv2D object at 0x7fd90a166898>\n",
            "3 : <keras.layers.normalization.BatchNormalization object at 0x7fd90a166d68>\n",
            "4 : <keras.layers.core.Activation object at 0x7fd90a166f98>\n",
            "5 : <keras.layers.convolutional.ZeroPadding2D object at 0x7fd90a230c88>\n",
            "6 : <keras.layers.pooling.MaxPooling2D object at 0x7fd90a1b4908>\n",
            "7 : <keras.layers.convolutional.Conv2D object at 0x7fd90a144a90>\n",
            "8 : <keras.layers.normalization.BatchNormalization object at 0x7fd8fc14e208>\n",
            "9 : <keras.layers.core.Activation object at 0x7fd8fc14ef98>\n",
            "10 : <keras.layers.convolutional.Conv2D object at 0x7fd8fc123eb8>\n",
            "11 : <keras.layers.normalization.BatchNormalization object at 0x7fd8fc184048>\n",
            "12 : <keras.layers.core.Activation object at 0x7fd8fc140128>\n",
            "13 : <keras.layers.convolutional.Conv2D object at 0x7fd8fc04e3c8>\n",
            "14 : <keras.layers.convolutional.Conv2D object at 0x7fd8fc021fd0>\n",
            "15 : <keras.layers.normalization.BatchNormalization object at 0x7fd8fc067be0>\n",
            "16 : <keras.layers.normalization.BatchNormalization object at 0x7fd8f04a27b8>\n",
            "17 : <keras.layers.merge.Add object at 0x7fd8f04b6c18>\n",
            "18 : <keras.layers.core.Activation object at 0x7fd8f03e4b00>\n",
            "19 : <keras.layers.convolutional.Conv2D object at 0x7fd8f04495c0>\n",
            "20 : <keras.layers.normalization.BatchNormalization object at 0x7fd8f0409908>\n",
            "21 : <keras.layers.core.Activation object at 0x7fd8f037bf60>\n",
            "22 : <keras.layers.convolutional.Conv2D object at 0x7fd8f0395518>\n",
            "23 : <keras.layers.normalization.BatchNormalization object at 0x7fd8f02e02b0>\n",
            "24 : <keras.layers.core.Activation object at 0x7fd8f02ff3c8>\n",
            "25 : <keras.layers.convolutional.Conv2D object at 0x7fd8f02408d0>\n",
            "26 : <keras.layers.normalization.BatchNormalization object at 0x7fd8f0220f60>\n",
            "27 : <keras.layers.merge.Add object at 0x7fd8f01df828>\n",
            "28 : <keras.layers.core.Activation object at 0x7fd8f01d2d68>\n",
            "29 : <keras.layers.convolutional.Conv2D object at 0x7fd8f01d2b70>\n",
            "30 : <keras.layers.normalization.BatchNormalization object at 0x7fd8f013a828>\n",
            "31 : <keras.layers.core.Activation object at 0x7fd8f00b32b0>\n",
            "32 : <keras.layers.convolutional.Conv2D object at 0x7fd8f001a710>\n",
            "33 : <keras.layers.normalization.BatchNormalization object at 0x7fd8f0079dd8>\n",
            "34 : <keras.layers.core.Activation object at 0x7fd8f0035da0>\n",
            "35 : <keras.layers.convolutional.Conv2D object at 0x7fd8b13d7d30>\n",
            "36 : <keras.layers.normalization.BatchNormalization object at 0x7fd8b13bb7f0>\n",
            "37 : <keras.layers.merge.Add object at 0x7fd8b13f7c88>\n",
            "38 : <keras.layers.core.Activation object at 0x7fd8b130a748>\n",
            "39 : <keras.layers.convolutional.Conv2D object at 0x7fd8b130a898>\n",
            "40 : <keras.layers.normalization.BatchNormalization object at 0x7fd8b12f3240>\n",
            "41 : <keras.layers.core.Activation object at 0x7fd8b124c208>\n",
            "42 : <keras.layers.convolutional.Conv2D object at 0x7fd8b1234e80>\n",
            "43 : <keras.layers.normalization.BatchNormalization object at 0x7fd8b1215f28>\n",
            "44 : <keras.layers.core.Activation object at 0x7fd8b11d0978>\n",
            "45 : <keras.layers.convolutional.Conv2D object at 0x7fd8b1162400>\n",
            "46 : <keras.layers.convolutional.Conv2D object at 0x7fd8b10d07f0>\n",
            "47 : <keras.layers.normalization.BatchNormalization object at 0x7fd8b10e2f98>\n",
            "48 : <keras.layers.normalization.BatchNormalization object at 0x7fd8b105aef0>\n",
            "49 : <keras.layers.merge.Add object at 0x7fd8b102c5f8>\n",
            "50 : <keras.layers.core.Activation object at 0x7fd8b0fa0f60>\n",
            "51 : <keras.layers.convolutional.Conv2D object at 0x7fd8b0fa02e8>\n",
            "52 : <keras.layers.normalization.BatchNormalization object at 0x7fd8b0f0d1d0>\n",
            "53 : <keras.layers.core.Activation object at 0x7fd8b0edd9e8>\n",
            "54 : <keras.layers.convolutional.Conv2D object at 0x7fd8b0ea2630>\n",
            "55 : <keras.layers.normalization.BatchNormalization object at 0x7fd8b0eb5ac8>\n",
            "56 : <keras.layers.core.Activation object at 0x7fd8b0e0c208>\n",
            "57 : <keras.layers.convolutional.Conv2D object at 0x7fd8b0d97be0>\n",
            "58 : <keras.layers.normalization.BatchNormalization object at 0x7fd8b0daff28>\n",
            "59 : <keras.layers.merge.Add object at 0x7fd8b0d6c9e8>\n",
            "60 : <keras.layers.core.Activation object at 0x7fd8b0cdec88>\n",
            "61 : <keras.layers.convolutional.Conv2D object at 0x7fd8b0cdec50>\n",
            "62 : <keras.layers.normalization.BatchNormalization object at 0x7fd8b0c49828>\n",
            "63 : <keras.layers.core.Activation object at 0x7fd8b0bbc3c8>\n",
            "64 : <keras.layers.convolutional.Conv2D object at 0x7fd8b0ba6828>\n",
            "65 : <keras.layers.normalization.BatchNormalization object at 0x7fd8b0b88ef0>\n",
            "66 : <keras.layers.core.Activation object at 0x7fd8b0b44780>\n",
            "67 : <keras.layers.convolutional.Conv2D object at 0x7fd8b0a83e48>\n",
            "68 : <keras.layers.normalization.BatchNormalization object at 0x7fd8b0ae9908>\n",
            "69 : <keras.layers.merge.Add object at 0x7fd8b0aa5da0>\n",
            "70 : <keras.layers.core.Activation object at 0x7fd8b0a31860>\n",
            "71 : <keras.layers.convolutional.Conv2D object at 0x7fd8b0a319b0>\n",
            "72 : <keras.layers.normalization.BatchNormalization object at 0x7fd8b09a0588>\n",
            "73 : <keras.layers.core.Activation object at 0x7fd8b096b320>\n",
            "74 : <keras.layers.convolutional.Conv2D object at 0x7fd8b08dff98>\n",
            "75 : <keras.layers.normalization.BatchNormalization object at 0x7fd8b08c2748>\n",
            "76 : <keras.layers.core.Activation object at 0x7fd8b087abe0>\n",
            "77 : <keras.layers.convolutional.Conv2D object at 0x7fd8b0811550>\n",
            "78 : <keras.layers.normalization.BatchNormalization object at 0x7fd8b07e02e8>\n",
            "79 : <keras.layers.merge.Add object at 0x7fd8b077c400>\n",
            "80 : <keras.layers.core.Activation object at 0x7fd8b0706cf8>\n",
            "81 : <keras.layers.convolutional.Conv2D object at 0x7fd8b071d518>\n",
            "82 : <keras.layers.normalization.BatchNormalization object at 0x7fd8b06da9e8>\n",
            "83 : <keras.layers.core.Activation object at 0x7fd8b06a3780>\n",
            "84 : <keras.layers.convolutional.Conv2D object at 0x7fd8b0666390>\n",
            "85 : <keras.layers.normalization.BatchNormalization object at 0x7fd8b0636128>\n",
            "86 : <keras.layers.core.Activation object at 0x7fd8b0636fd0>\n",
            "87 : <keras.layers.convolutional.Conv2D object at 0x7fd8b0514748>\n",
            "88 : <keras.layers.convolutional.Conv2D object at 0x7fd8b0531dd8>\n",
            "89 : <keras.layers.normalization.BatchNormalization object at 0x7fd8b0575e48>\n",
            "90 : <keras.layers.normalization.BatchNormalization object at 0x7fd8b0456978>\n",
            "91 : <keras.layers.merge.Add object at 0x7fd8b0386cc0>\n",
            "92 : <keras.layers.core.Activation object at 0x7fd8b039feb8>\n",
            "93 : <keras.layers.convolutional.Conv2D object at 0x7fd8b039fb70>\n",
            "94 : <keras.layers.normalization.BatchNormalization object at 0x7fd8b030ed68>\n",
            "95 : <keras.layers.core.Activation object at 0x7fd8b02d8ef0>\n",
            "96 : <keras.layers.convolutional.Conv2D object at 0x7fd8b026a5f8>\n",
            "97 : <keras.layers.normalization.BatchNormalization object at 0x7fd8b024bd68>\n",
            "98 : <keras.layers.core.Activation object at 0x7fd8b0205588>\n",
            "99 : <keras.layers.convolutional.Conv2D object at 0x7fd8b014bf28>\n",
            "100 : <keras.layers.normalization.BatchNormalization object at 0x7fd8b01ad6d8>\n",
            "101 : <keras.layers.merge.Add object at 0x7fd8b0167a20>\n",
            "102 : <keras.layers.core.Activation object at 0x7fd8b007a4e0>\n",
            "103 : <keras.layers.convolutional.Conv2D object at 0x7fd8b007ac50>\n",
            "104 : <keras.layers.normalization.BatchNormalization object at 0x7fd8a7fe32e8>\n",
            "105 : <keras.layers.core.Activation object at 0x7fd8a7ff5be0>\n",
            "106 : <keras.layers.convolutional.Conv2D object at 0x7fd8a7f9ec88>\n",
            "107 : <keras.layers.normalization.BatchNormalization object at 0x7fd8a7f4f7b8>\n",
            "108 : <keras.layers.core.Activation object at 0x7fd8a7f0bfd0>\n",
            "109 : <keras.layers.convolutional.Conv2D object at 0x7fd8a7e646d8>\n",
            "110 : <keras.layers.normalization.BatchNormalization object at 0x7fd8a7e47e48>\n",
            "111 : <keras.layers.merge.Add object at 0x7fd8a7e017b8>\n",
            "112 : <keras.layers.core.Activation object at 0x7fd8a7df69b0>\n",
            "113 : <keras.layers.convolutional.Conv2D object at 0x7fd8a7df6a58>\n",
            "114 : <keras.layers.normalization.BatchNormalization object at 0x7fd8a7d62ba8>\n",
            "115 : <keras.layers.core.Activation object at 0x7fd8a7cd6518>\n",
            "116 : <keras.layers.convolutional.Conv2D object at 0x7fd8a7c88d30>\n",
            "117 : <keras.layers.normalization.BatchNormalization object at 0x7fd8a7ca0f98>\n",
            "118 : <keras.layers.core.Activation object at 0x7fd8a7c5a940>\n",
            "119 : <keras.layers.convolutional.Conv2D object at 0x7fd8a7bef400>\n",
            "120 : <keras.layers.normalization.BatchNormalization object at 0x7fd8a7b0cfd0>\n",
            "121 : <keras.layers.merge.Add object at 0x7fd8a7bbcb00>\n",
            "122 : <keras.layers.core.Activation object at 0x7fd8a7acabe0>\n",
            "123 : <keras.layers.convolutional.Conv2D object at 0x7fd8a7aca940>\n",
            "124 : <keras.layers.normalization.BatchNormalization object at 0x7fd8a7ab78d0>\n",
            "125 : <keras.layers.core.Activation object at 0x7fd8a7a02f28>\n",
            "126 : <keras.layers.convolutional.Conv2D object at 0x7fd8a79925f8>\n",
            "127 : <keras.layers.normalization.BatchNormalization object at 0x7fd8a79f4d68>\n",
            "128 : <keras.layers.core.Activation object at 0x7fd8a79b0588>\n",
            "129 : <keras.layers.convolutional.Conv2D object at 0x7fd8a78f1f28>\n",
            "130 : <keras.layers.normalization.BatchNormalization object at 0x7fd8a78d36d8>\n",
            "131 : <keras.layers.merge.Add object at 0x7fd8a788fa20>\n",
            "132 : <keras.layers.core.Activation object at 0x7fd8a7805f60>\n",
            "133 : <keras.layers.convolutional.Conv2D object at 0x7fd8a78244a8>\n",
            "134 : <keras.layers.normalization.BatchNormalization object at 0x7fd8a778e128>\n",
            "135 : <keras.layers.core.Activation object at 0x7fd8a7758710>\n",
            "136 : <keras.layers.convolutional.Conv2D object at 0x7fd8a771b320>\n",
            "137 : <keras.layers.normalization.BatchNormalization object at 0x7fd8a77337f0>\n",
            "138 : <keras.layers.core.Activation object at 0x7fd8a76edfd0>\n",
            "139 : <keras.layers.convolutional.Conv2D object at 0x7fd8a75c66d8>\n",
            "140 : <keras.layers.normalization.BatchNormalization object at 0x7fd8a7629e48>\n",
            "141 : <keras.layers.merge.Add object at 0x7fd8a75e57b8>\n",
            "142 : <keras.layers.core.Activation object at 0x7fd8a7557940>\n",
            "143 : <keras.layers.convolutional.Conv2D object at 0x7fd8a7557a20>\n",
            "144 : <keras.layers.normalization.BatchNormalization object at 0x7fd8a74c3ba8>\n",
            "145 : <keras.layers.core.Activation object at 0x7fd8a74b41d0>\n",
            "146 : <keras.layers.convolutional.Conv2D object at 0x7fd8a746bd30>\n",
            "147 : <keras.layers.normalization.BatchNormalization object at 0x7fd8a7402f98>\n",
            "148 : <keras.layers.core.Activation object at 0x7fd8a743f940>\n",
            "149 : <keras.layers.convolutional.Conv2D object at 0x7fd8a73513c8>\n",
            "150 : <keras.layers.convolutional.Conv2D object at 0x7fd8a731db00>\n",
            "151 : <keras.layers.normalization.BatchNormalization object at 0x7fd8a72eefd0>\n",
            "152 : <keras.layers.normalization.BatchNormalization object at 0x7fd8a7247eb8>\n",
            "153 : <keras.layers.merge.Add object at 0x7fd8a721bda0>\n",
            "154 : <keras.layers.core.Activation object at 0x7fd8a7191898>\n",
            "155 : <keras.layers.convolutional.Conv2D object at 0x7fd8a7191828>\n",
            "156 : <keras.layers.normalization.BatchNormalization object at 0x7fd8a7127e48>\n",
            "157 : <keras.layers.core.Activation object at 0x7fd8a70e55f8>\n",
            "158 : <keras.layers.convolutional.Conv2D object at 0x7fd8a708acf8>\n",
            "159 : <keras.layers.normalization.BatchNormalization object at 0x7fd8a70ba748>\n",
            "160 : <keras.layers.core.Activation object at 0x7fd8a7077978>\n",
            "161 : <keras.layers.convolutional.Conv2D object at 0x7fd8a6f50630>\n",
            "162 : <keras.layers.normalization.BatchNormalization object at 0x7fd8a6fb4da0>\n",
            "163 : <keras.layers.merge.Add object at 0x7fd8a6f6c5c0>\n",
            "164 : <keras.layers.core.Activation object at 0x7fd8a6ee1eb8>\n",
            "165 : <keras.layers.convolutional.Conv2D object at 0x7fd8a6ee18d0>\n",
            "166 : <keras.layers.normalization.BatchNormalization object at 0x7fd8a6e006a0>\n",
            "167 : <keras.layers.core.Activation object at 0x7fd8a6dc54a8>\n",
            "168 : <keras.layers.convolutional.Conv2D object at 0x7fd8a6df5c88>\n",
            "169 : <keras.layers.normalization.BatchNormalization object at 0x7fd8a6d8cef0>\n",
            "170 : <keras.layers.core.Activation object at 0x7fd8a6d4a9e8>\n",
            "171 : <keras.layers.convolutional.Conv2D object at 0x7fd8a6cdb358>\n",
            "172 : <keras.layers.normalization.BatchNormalization object at 0x7fd8a6cf3828>\n",
            "173 : <keras.layers.merge.Add object at 0x7fd8a6ca6fd0>\n",
            "174 : <keras.layers.core.Activation object at 0x7fd8a6c38be0>\n",
            "175 : <keras.layers.core.Dense object at 0x7fd8a6b1bf60>\n",
            "176 : <keras.layers.normalization.BatchNormalization object at 0x7fd90a166518>\n",
            "177 : <keras.layers.core.Activation object at 0x7fd8a5e8d080>\n",
            "178 : <keras.layers.core.Dropout object at 0x7fd8a5fafd68>\n",
            "179 : <keras.layers.core.Flatten object at 0x7fd8a5e32cf8>\n",
            "180 : <keras.layers.core.Dense object at 0x7fd8a5e8d128>\n"
          ],
          "name": "stdout"
        }
      ]
    },
    {
      "cell_type": "code",
      "metadata": {
        "id": "XOnecUjTQuCG",
        "colab_type": "code",
        "outputId": "ec9afda4-91a8-41a8-b208-540a5e1e4ad8",
        "colab": {
          "base_uri": "https://localhost:8080/",
          "height": 1000
        }
      },
      "source": [
        "model.summary()"
      ],
      "execution_count": 16,
      "outputs": [
        {
          "output_type": "stream",
          "text": [
            "__________________________________________________________________________________________________\n",
            "Layer (type)                    Output Shape         Param #     Connected to                     \n",
            "==================================================================================================\n",
            "input_1 (InputLayer)            (None, 224, 224, 3)  0                                            \n",
            "__________________________________________________________________________________________________\n",
            "conv1_pad (ZeroPadding2D)       (None, 230, 230, 3)  0           input_1[0][0]                    \n",
            "__________________________________________________________________________________________________\n",
            "conv1 (Conv2D)                  (None, 112, 112, 64) 9472        conv1_pad[0][0]                  \n",
            "__________________________________________________________________________________________________\n",
            "bn_conv1 (BatchNormalization)   (None, 112, 112, 64) 256         conv1[0][0]                      \n",
            "__________________________________________________________________________________________________\n",
            "activation_1 (Activation)       (None, 112, 112, 64) 0           bn_conv1[0][0]                   \n",
            "__________________________________________________________________________________________________\n",
            "pool1_pad (ZeroPadding2D)       (None, 114, 114, 64) 0           activation_1[0][0]               \n",
            "__________________________________________________________________________________________________\n",
            "max_pooling2d_1 (MaxPooling2D)  (None, 56, 56, 64)   0           pool1_pad[0][0]                  \n",
            "__________________________________________________________________________________________________\n",
            "res2a_branch2a (Conv2D)         (None, 56, 56, 64)   4160        max_pooling2d_1[0][0]            \n",
            "__________________________________________________________________________________________________\n",
            "bn2a_branch2a (BatchNormalizati (None, 56, 56, 64)   256         res2a_branch2a[0][0]             \n",
            "__________________________________________________________________________________________________\n",
            "activation_2 (Activation)       (None, 56, 56, 64)   0           bn2a_branch2a[0][0]              \n",
            "__________________________________________________________________________________________________\n",
            "res2a_branch2b (Conv2D)         (None, 56, 56, 64)   36928       activation_2[0][0]               \n",
            "__________________________________________________________________________________________________\n",
            "bn2a_branch2b (BatchNormalizati (None, 56, 56, 64)   256         res2a_branch2b[0][0]             \n",
            "__________________________________________________________________________________________________\n",
            "activation_3 (Activation)       (None, 56, 56, 64)   0           bn2a_branch2b[0][0]              \n",
            "__________________________________________________________________________________________________\n",
            "res2a_branch2c (Conv2D)         (None, 56, 56, 256)  16640       activation_3[0][0]               \n",
            "__________________________________________________________________________________________________\n",
            "res2a_branch1 (Conv2D)          (None, 56, 56, 256)  16640       max_pooling2d_1[0][0]            \n",
            "__________________________________________________________________________________________________\n",
            "bn2a_branch2c (BatchNormalizati (None, 56, 56, 256)  1024        res2a_branch2c[0][0]             \n",
            "__________________________________________________________________________________________________\n",
            "bn2a_branch1 (BatchNormalizatio (None, 56, 56, 256)  1024        res2a_branch1[0][0]              \n",
            "__________________________________________________________________________________________________\n",
            "add_1 (Add)                     (None, 56, 56, 256)  0           bn2a_branch2c[0][0]              \n",
            "                                                                 bn2a_branch1[0][0]               \n",
            "__________________________________________________________________________________________________\n",
            "activation_4 (Activation)       (None, 56, 56, 256)  0           add_1[0][0]                      \n",
            "__________________________________________________________________________________________________\n",
            "res2b_branch2a (Conv2D)         (None, 56, 56, 64)   16448       activation_4[0][0]               \n",
            "__________________________________________________________________________________________________\n",
            "bn2b_branch2a (BatchNormalizati (None, 56, 56, 64)   256         res2b_branch2a[0][0]             \n",
            "__________________________________________________________________________________________________\n",
            "activation_5 (Activation)       (None, 56, 56, 64)   0           bn2b_branch2a[0][0]              \n",
            "__________________________________________________________________________________________________\n",
            "res2b_branch2b (Conv2D)         (None, 56, 56, 64)   36928       activation_5[0][0]               \n",
            "__________________________________________________________________________________________________\n",
            "bn2b_branch2b (BatchNormalizati (None, 56, 56, 64)   256         res2b_branch2b[0][0]             \n",
            "__________________________________________________________________________________________________\n",
            "activation_6 (Activation)       (None, 56, 56, 64)   0           bn2b_branch2b[0][0]              \n",
            "__________________________________________________________________________________________________\n",
            "res2b_branch2c (Conv2D)         (None, 56, 56, 256)  16640       activation_6[0][0]               \n",
            "__________________________________________________________________________________________________\n",
            "bn2b_branch2c (BatchNormalizati (None, 56, 56, 256)  1024        res2b_branch2c[0][0]             \n",
            "__________________________________________________________________________________________________\n",
            "add_2 (Add)                     (None, 56, 56, 256)  0           bn2b_branch2c[0][0]              \n",
            "                                                                 activation_4[0][0]               \n",
            "__________________________________________________________________________________________________\n",
            "activation_7 (Activation)       (None, 56, 56, 256)  0           add_2[0][0]                      \n",
            "__________________________________________________________________________________________________\n",
            "res2c_branch2a (Conv2D)         (None, 56, 56, 64)   16448       activation_7[0][0]               \n",
            "__________________________________________________________________________________________________\n",
            "bn2c_branch2a (BatchNormalizati (None, 56, 56, 64)   256         res2c_branch2a[0][0]             \n",
            "__________________________________________________________________________________________________\n",
            "activation_8 (Activation)       (None, 56, 56, 64)   0           bn2c_branch2a[0][0]              \n",
            "__________________________________________________________________________________________________\n",
            "res2c_branch2b (Conv2D)         (None, 56, 56, 64)   36928       activation_8[0][0]               \n",
            "__________________________________________________________________________________________________\n",
            "bn2c_branch2b (BatchNormalizati (None, 56, 56, 64)   256         res2c_branch2b[0][0]             \n",
            "__________________________________________________________________________________________________\n",
            "activation_9 (Activation)       (None, 56, 56, 64)   0           bn2c_branch2b[0][0]              \n",
            "__________________________________________________________________________________________________\n",
            "res2c_branch2c (Conv2D)         (None, 56, 56, 256)  16640       activation_9[0][0]               \n",
            "__________________________________________________________________________________________________\n",
            "bn2c_branch2c (BatchNormalizati (None, 56, 56, 256)  1024        res2c_branch2c[0][0]             \n",
            "__________________________________________________________________________________________________\n",
            "add_3 (Add)                     (None, 56, 56, 256)  0           bn2c_branch2c[0][0]              \n",
            "                                                                 activation_7[0][0]               \n",
            "__________________________________________________________________________________________________\n",
            "activation_10 (Activation)      (None, 56, 56, 256)  0           add_3[0][0]                      \n",
            "__________________________________________________________________________________________________\n",
            "res3a_branch2a (Conv2D)         (None, 28, 28, 128)  32896       activation_10[0][0]              \n",
            "__________________________________________________________________________________________________\n",
            "bn3a_branch2a (BatchNormalizati (None, 28, 28, 128)  512         res3a_branch2a[0][0]             \n",
            "__________________________________________________________________________________________________\n",
            "activation_11 (Activation)      (None, 28, 28, 128)  0           bn3a_branch2a[0][0]              \n",
            "__________________________________________________________________________________________________\n",
            "res3a_branch2b (Conv2D)         (None, 28, 28, 128)  147584      activation_11[0][0]              \n",
            "__________________________________________________________________________________________________\n",
            "bn3a_branch2b (BatchNormalizati (None, 28, 28, 128)  512         res3a_branch2b[0][0]             \n",
            "__________________________________________________________________________________________________\n",
            "activation_12 (Activation)      (None, 28, 28, 128)  0           bn3a_branch2b[0][0]              \n",
            "__________________________________________________________________________________________________\n",
            "res3a_branch2c (Conv2D)         (None, 28, 28, 512)  66048       activation_12[0][0]              \n",
            "__________________________________________________________________________________________________\n",
            "res3a_branch1 (Conv2D)          (None, 28, 28, 512)  131584      activation_10[0][0]              \n",
            "__________________________________________________________________________________________________\n",
            "bn3a_branch2c (BatchNormalizati (None, 28, 28, 512)  2048        res3a_branch2c[0][0]             \n",
            "__________________________________________________________________________________________________\n",
            "bn3a_branch1 (BatchNormalizatio (None, 28, 28, 512)  2048        res3a_branch1[0][0]              \n",
            "__________________________________________________________________________________________________\n",
            "add_4 (Add)                     (None, 28, 28, 512)  0           bn3a_branch2c[0][0]              \n",
            "                                                                 bn3a_branch1[0][0]               \n",
            "__________________________________________________________________________________________________\n",
            "activation_13 (Activation)      (None, 28, 28, 512)  0           add_4[0][0]                      \n",
            "__________________________________________________________________________________________________\n",
            "res3b_branch2a (Conv2D)         (None, 28, 28, 128)  65664       activation_13[0][0]              \n",
            "__________________________________________________________________________________________________\n",
            "bn3b_branch2a (BatchNormalizati (None, 28, 28, 128)  512         res3b_branch2a[0][0]             \n",
            "__________________________________________________________________________________________________\n",
            "activation_14 (Activation)      (None, 28, 28, 128)  0           bn3b_branch2a[0][0]              \n",
            "__________________________________________________________________________________________________\n",
            "res3b_branch2b (Conv2D)         (None, 28, 28, 128)  147584      activation_14[0][0]              \n",
            "__________________________________________________________________________________________________\n",
            "bn3b_branch2b (BatchNormalizati (None, 28, 28, 128)  512         res3b_branch2b[0][0]             \n",
            "__________________________________________________________________________________________________\n",
            "activation_15 (Activation)      (None, 28, 28, 128)  0           bn3b_branch2b[0][0]              \n",
            "__________________________________________________________________________________________________\n",
            "res3b_branch2c (Conv2D)         (None, 28, 28, 512)  66048       activation_15[0][0]              \n",
            "__________________________________________________________________________________________________\n",
            "bn3b_branch2c (BatchNormalizati (None, 28, 28, 512)  2048        res3b_branch2c[0][0]             \n",
            "__________________________________________________________________________________________________\n",
            "add_5 (Add)                     (None, 28, 28, 512)  0           bn3b_branch2c[0][0]              \n",
            "                                                                 activation_13[0][0]              \n",
            "__________________________________________________________________________________________________\n",
            "activation_16 (Activation)      (None, 28, 28, 512)  0           add_5[0][0]                      \n",
            "__________________________________________________________________________________________________\n",
            "res3c_branch2a (Conv2D)         (None, 28, 28, 128)  65664       activation_16[0][0]              \n",
            "__________________________________________________________________________________________________\n",
            "bn3c_branch2a (BatchNormalizati (None, 28, 28, 128)  512         res3c_branch2a[0][0]             \n",
            "__________________________________________________________________________________________________\n",
            "activation_17 (Activation)      (None, 28, 28, 128)  0           bn3c_branch2a[0][0]              \n",
            "__________________________________________________________________________________________________\n",
            "res3c_branch2b (Conv2D)         (None, 28, 28, 128)  147584      activation_17[0][0]              \n",
            "__________________________________________________________________________________________________\n",
            "bn3c_branch2b (BatchNormalizati (None, 28, 28, 128)  512         res3c_branch2b[0][0]             \n",
            "__________________________________________________________________________________________________\n",
            "activation_18 (Activation)      (None, 28, 28, 128)  0           bn3c_branch2b[0][0]              \n",
            "__________________________________________________________________________________________________\n",
            "res3c_branch2c (Conv2D)         (None, 28, 28, 512)  66048       activation_18[0][0]              \n",
            "__________________________________________________________________________________________________\n",
            "bn3c_branch2c (BatchNormalizati (None, 28, 28, 512)  2048        res3c_branch2c[0][0]             \n",
            "__________________________________________________________________________________________________\n",
            "add_6 (Add)                     (None, 28, 28, 512)  0           bn3c_branch2c[0][0]              \n",
            "                                                                 activation_16[0][0]              \n",
            "__________________________________________________________________________________________________\n",
            "activation_19 (Activation)      (None, 28, 28, 512)  0           add_6[0][0]                      \n",
            "__________________________________________________________________________________________________\n",
            "res3d_branch2a (Conv2D)         (None, 28, 28, 128)  65664       activation_19[0][0]              \n",
            "__________________________________________________________________________________________________\n",
            "bn3d_branch2a (BatchNormalizati (None, 28, 28, 128)  512         res3d_branch2a[0][0]             \n",
            "__________________________________________________________________________________________________\n",
            "activation_20 (Activation)      (None, 28, 28, 128)  0           bn3d_branch2a[0][0]              \n",
            "__________________________________________________________________________________________________\n",
            "res3d_branch2b (Conv2D)         (None, 28, 28, 128)  147584      activation_20[0][0]              \n",
            "__________________________________________________________________________________________________\n",
            "bn3d_branch2b (BatchNormalizati (None, 28, 28, 128)  512         res3d_branch2b[0][0]             \n",
            "__________________________________________________________________________________________________\n",
            "activation_21 (Activation)      (None, 28, 28, 128)  0           bn3d_branch2b[0][0]              \n",
            "__________________________________________________________________________________________________\n",
            "res3d_branch2c (Conv2D)         (None, 28, 28, 512)  66048       activation_21[0][0]              \n",
            "__________________________________________________________________________________________________\n",
            "bn3d_branch2c (BatchNormalizati (None, 28, 28, 512)  2048        res3d_branch2c[0][0]             \n",
            "__________________________________________________________________________________________________\n",
            "add_7 (Add)                     (None, 28, 28, 512)  0           bn3d_branch2c[0][0]              \n",
            "                                                                 activation_19[0][0]              \n",
            "__________________________________________________________________________________________________\n",
            "activation_22 (Activation)      (None, 28, 28, 512)  0           add_7[0][0]                      \n",
            "__________________________________________________________________________________________________\n",
            "res4a_branch2a (Conv2D)         (None, 14, 14, 256)  131328      activation_22[0][0]              \n",
            "__________________________________________________________________________________________________\n",
            "bn4a_branch2a (BatchNormalizati (None, 14, 14, 256)  1024        res4a_branch2a[0][0]             \n",
            "__________________________________________________________________________________________________\n",
            "activation_23 (Activation)      (None, 14, 14, 256)  0           bn4a_branch2a[0][0]              \n",
            "__________________________________________________________________________________________________\n",
            "res4a_branch2b (Conv2D)         (None, 14, 14, 256)  590080      activation_23[0][0]              \n",
            "__________________________________________________________________________________________________\n",
            "bn4a_branch2b (BatchNormalizati (None, 14, 14, 256)  1024        res4a_branch2b[0][0]             \n",
            "__________________________________________________________________________________________________\n",
            "activation_24 (Activation)      (None, 14, 14, 256)  0           bn4a_branch2b[0][0]              \n",
            "__________________________________________________________________________________________________\n",
            "res4a_branch2c (Conv2D)         (None, 14, 14, 1024) 263168      activation_24[0][0]              \n",
            "__________________________________________________________________________________________________\n",
            "res4a_branch1 (Conv2D)          (None, 14, 14, 1024) 525312      activation_22[0][0]              \n",
            "__________________________________________________________________________________________________\n",
            "bn4a_branch2c (BatchNormalizati (None, 14, 14, 1024) 4096        res4a_branch2c[0][0]             \n",
            "__________________________________________________________________________________________________\n",
            "bn4a_branch1 (BatchNormalizatio (None, 14, 14, 1024) 4096        res4a_branch1[0][0]              \n",
            "__________________________________________________________________________________________________\n",
            "add_8 (Add)                     (None, 14, 14, 1024) 0           bn4a_branch2c[0][0]              \n",
            "                                                                 bn4a_branch1[0][0]               \n",
            "__________________________________________________________________________________________________\n",
            "activation_25 (Activation)      (None, 14, 14, 1024) 0           add_8[0][0]                      \n",
            "__________________________________________________________________________________________________\n",
            "res4b_branch2a (Conv2D)         (None, 14, 14, 256)  262400      activation_25[0][0]              \n",
            "__________________________________________________________________________________________________\n",
            "bn4b_branch2a (BatchNormalizati (None, 14, 14, 256)  1024        res4b_branch2a[0][0]             \n",
            "__________________________________________________________________________________________________\n",
            "activation_26 (Activation)      (None, 14, 14, 256)  0           bn4b_branch2a[0][0]              \n",
            "__________________________________________________________________________________________________\n",
            "res4b_branch2b (Conv2D)         (None, 14, 14, 256)  590080      activation_26[0][0]              \n",
            "__________________________________________________________________________________________________\n",
            "bn4b_branch2b (BatchNormalizati (None, 14, 14, 256)  1024        res4b_branch2b[0][0]             \n",
            "__________________________________________________________________________________________________\n",
            "activation_27 (Activation)      (None, 14, 14, 256)  0           bn4b_branch2b[0][0]              \n",
            "__________________________________________________________________________________________________\n",
            "res4b_branch2c (Conv2D)         (None, 14, 14, 1024) 263168      activation_27[0][0]              \n",
            "__________________________________________________________________________________________________\n",
            "bn4b_branch2c (BatchNormalizati (None, 14, 14, 1024) 4096        res4b_branch2c[0][0]             \n",
            "__________________________________________________________________________________________________\n",
            "add_9 (Add)                     (None, 14, 14, 1024) 0           bn4b_branch2c[0][0]              \n",
            "                                                                 activation_25[0][0]              \n",
            "__________________________________________________________________________________________________\n",
            "activation_28 (Activation)      (None, 14, 14, 1024) 0           add_9[0][0]                      \n",
            "__________________________________________________________________________________________________\n",
            "res4c_branch2a (Conv2D)         (None, 14, 14, 256)  262400      activation_28[0][0]              \n",
            "__________________________________________________________________________________________________\n",
            "bn4c_branch2a (BatchNormalizati (None, 14, 14, 256)  1024        res4c_branch2a[0][0]             \n",
            "__________________________________________________________________________________________________\n",
            "activation_29 (Activation)      (None, 14, 14, 256)  0           bn4c_branch2a[0][0]              \n",
            "__________________________________________________________________________________________________\n",
            "res4c_branch2b (Conv2D)         (None, 14, 14, 256)  590080      activation_29[0][0]              \n",
            "__________________________________________________________________________________________________\n",
            "bn4c_branch2b (BatchNormalizati (None, 14, 14, 256)  1024        res4c_branch2b[0][0]             \n",
            "__________________________________________________________________________________________________\n",
            "activation_30 (Activation)      (None, 14, 14, 256)  0           bn4c_branch2b[0][0]              \n",
            "__________________________________________________________________________________________________\n",
            "res4c_branch2c (Conv2D)         (None, 14, 14, 1024) 263168      activation_30[0][0]              \n",
            "__________________________________________________________________________________________________\n",
            "bn4c_branch2c (BatchNormalizati (None, 14, 14, 1024) 4096        res4c_branch2c[0][0]             \n",
            "__________________________________________________________________________________________________\n",
            "add_10 (Add)                    (None, 14, 14, 1024) 0           bn4c_branch2c[0][0]              \n",
            "                                                                 activation_28[0][0]              \n",
            "__________________________________________________________________________________________________\n",
            "activation_31 (Activation)      (None, 14, 14, 1024) 0           add_10[0][0]                     \n",
            "__________________________________________________________________________________________________\n",
            "res4d_branch2a (Conv2D)         (None, 14, 14, 256)  262400      activation_31[0][0]              \n",
            "__________________________________________________________________________________________________\n",
            "bn4d_branch2a (BatchNormalizati (None, 14, 14, 256)  1024        res4d_branch2a[0][0]             \n",
            "__________________________________________________________________________________________________\n",
            "activation_32 (Activation)      (None, 14, 14, 256)  0           bn4d_branch2a[0][0]              \n",
            "__________________________________________________________________________________________________\n",
            "res4d_branch2b (Conv2D)         (None, 14, 14, 256)  590080      activation_32[0][0]              \n",
            "__________________________________________________________________________________________________\n",
            "bn4d_branch2b (BatchNormalizati (None, 14, 14, 256)  1024        res4d_branch2b[0][0]             \n",
            "__________________________________________________________________________________________________\n",
            "activation_33 (Activation)      (None, 14, 14, 256)  0           bn4d_branch2b[0][0]              \n",
            "__________________________________________________________________________________________________\n",
            "res4d_branch2c (Conv2D)         (None, 14, 14, 1024) 263168      activation_33[0][0]              \n",
            "__________________________________________________________________________________________________\n",
            "bn4d_branch2c (BatchNormalizati (None, 14, 14, 1024) 4096        res4d_branch2c[0][0]             \n",
            "__________________________________________________________________________________________________\n",
            "add_11 (Add)                    (None, 14, 14, 1024) 0           bn4d_branch2c[0][0]              \n",
            "                                                                 activation_31[0][0]              \n",
            "__________________________________________________________________________________________________\n",
            "activation_34 (Activation)      (None, 14, 14, 1024) 0           add_11[0][0]                     \n",
            "__________________________________________________________________________________________________\n",
            "res4e_branch2a (Conv2D)         (None, 14, 14, 256)  262400      activation_34[0][0]              \n",
            "__________________________________________________________________________________________________\n",
            "bn4e_branch2a (BatchNormalizati (None, 14, 14, 256)  1024        res4e_branch2a[0][0]             \n",
            "__________________________________________________________________________________________________\n",
            "activation_35 (Activation)      (None, 14, 14, 256)  0           bn4e_branch2a[0][0]              \n",
            "__________________________________________________________________________________________________\n",
            "res4e_branch2b (Conv2D)         (None, 14, 14, 256)  590080      activation_35[0][0]              \n",
            "__________________________________________________________________________________________________\n",
            "bn4e_branch2b (BatchNormalizati (None, 14, 14, 256)  1024        res4e_branch2b[0][0]             \n",
            "__________________________________________________________________________________________________\n",
            "activation_36 (Activation)      (None, 14, 14, 256)  0           bn4e_branch2b[0][0]              \n",
            "__________________________________________________________________________________________________\n",
            "res4e_branch2c (Conv2D)         (None, 14, 14, 1024) 263168      activation_36[0][0]              \n",
            "__________________________________________________________________________________________________\n",
            "bn4e_branch2c (BatchNormalizati (None, 14, 14, 1024) 4096        res4e_branch2c[0][0]             \n",
            "__________________________________________________________________________________________________\n",
            "add_12 (Add)                    (None, 14, 14, 1024) 0           bn4e_branch2c[0][0]              \n",
            "                                                                 activation_34[0][0]              \n",
            "__________________________________________________________________________________________________\n",
            "activation_37 (Activation)      (None, 14, 14, 1024) 0           add_12[0][0]                     \n",
            "__________________________________________________________________________________________________\n",
            "res4f_branch2a (Conv2D)         (None, 14, 14, 256)  262400      activation_37[0][0]              \n",
            "__________________________________________________________________________________________________\n",
            "bn4f_branch2a (BatchNormalizati (None, 14, 14, 256)  1024        res4f_branch2a[0][0]             \n",
            "__________________________________________________________________________________________________\n",
            "activation_38 (Activation)      (None, 14, 14, 256)  0           bn4f_branch2a[0][0]              \n",
            "__________________________________________________________________________________________________\n",
            "res4f_branch2b (Conv2D)         (None, 14, 14, 256)  590080      activation_38[0][0]              \n",
            "__________________________________________________________________________________________________\n",
            "bn4f_branch2b (BatchNormalizati (None, 14, 14, 256)  1024        res4f_branch2b[0][0]             \n",
            "__________________________________________________________________________________________________\n",
            "activation_39 (Activation)      (None, 14, 14, 256)  0           bn4f_branch2b[0][0]              \n",
            "__________________________________________________________________________________________________\n",
            "res4f_branch2c (Conv2D)         (None, 14, 14, 1024) 263168      activation_39[0][0]              \n",
            "__________________________________________________________________________________________________\n",
            "bn4f_branch2c (BatchNormalizati (None, 14, 14, 1024) 4096        res4f_branch2c[0][0]             \n",
            "__________________________________________________________________________________________________\n",
            "add_13 (Add)                    (None, 14, 14, 1024) 0           bn4f_branch2c[0][0]              \n",
            "                                                                 activation_37[0][0]              \n",
            "__________________________________________________________________________________________________\n",
            "activation_40 (Activation)      (None, 14, 14, 1024) 0           add_13[0][0]                     \n",
            "__________________________________________________________________________________________________\n",
            "res5a_branch2a (Conv2D)         (None, 7, 7, 512)    524800      activation_40[0][0]              \n",
            "__________________________________________________________________________________________________\n",
            "bn5a_branch2a (BatchNormalizati (None, 7, 7, 512)    2048        res5a_branch2a[0][0]             \n",
            "__________________________________________________________________________________________________\n",
            "activation_41 (Activation)      (None, 7, 7, 512)    0           bn5a_branch2a[0][0]              \n",
            "__________________________________________________________________________________________________\n",
            "res5a_branch2b (Conv2D)         (None, 7, 7, 512)    2359808     activation_41[0][0]              \n",
            "__________________________________________________________________________________________________\n",
            "bn5a_branch2b (BatchNormalizati (None, 7, 7, 512)    2048        res5a_branch2b[0][0]             \n",
            "__________________________________________________________________________________________________\n",
            "activation_42 (Activation)      (None, 7, 7, 512)    0           bn5a_branch2b[0][0]              \n",
            "__________________________________________________________________________________________________\n",
            "res5a_branch2c (Conv2D)         (None, 7, 7, 2048)   1050624     activation_42[0][0]              \n",
            "__________________________________________________________________________________________________\n",
            "res5a_branch1 (Conv2D)          (None, 7, 7, 2048)   2099200     activation_40[0][0]              \n",
            "__________________________________________________________________________________________________\n",
            "bn5a_branch2c (BatchNormalizati (None, 7, 7, 2048)   8192        res5a_branch2c[0][0]             \n",
            "__________________________________________________________________________________________________\n",
            "bn5a_branch1 (BatchNormalizatio (None, 7, 7, 2048)   8192        res5a_branch1[0][0]              \n",
            "__________________________________________________________________________________________________\n",
            "add_14 (Add)                    (None, 7, 7, 2048)   0           bn5a_branch2c[0][0]              \n",
            "                                                                 bn5a_branch1[0][0]               \n",
            "__________________________________________________________________________________________________\n",
            "activation_43 (Activation)      (None, 7, 7, 2048)   0           add_14[0][0]                     \n",
            "__________________________________________________________________________________________________\n",
            "res5b_branch2a (Conv2D)         (None, 7, 7, 512)    1049088     activation_43[0][0]              \n",
            "__________________________________________________________________________________________________\n",
            "bn5b_branch2a (BatchNormalizati (None, 7, 7, 512)    2048        res5b_branch2a[0][0]             \n",
            "__________________________________________________________________________________________________\n",
            "activation_44 (Activation)      (None, 7, 7, 512)    0           bn5b_branch2a[0][0]              \n",
            "__________________________________________________________________________________________________\n",
            "res5b_branch2b (Conv2D)         (None, 7, 7, 512)    2359808     activation_44[0][0]              \n",
            "__________________________________________________________________________________________________\n",
            "bn5b_branch2b (BatchNormalizati (None, 7, 7, 512)    2048        res5b_branch2b[0][0]             \n",
            "__________________________________________________________________________________________________\n",
            "activation_45 (Activation)      (None, 7, 7, 512)    0           bn5b_branch2b[0][0]              \n",
            "__________________________________________________________________________________________________\n",
            "res5b_branch2c (Conv2D)         (None, 7, 7, 2048)   1050624     activation_45[0][0]              \n",
            "__________________________________________________________________________________________________\n",
            "bn5b_branch2c (BatchNormalizati (None, 7, 7, 2048)   8192        res5b_branch2c[0][0]             \n",
            "__________________________________________________________________________________________________\n",
            "add_15 (Add)                    (None, 7, 7, 2048)   0           bn5b_branch2c[0][0]              \n",
            "                                                                 activation_43[0][0]              \n",
            "__________________________________________________________________________________________________\n",
            "activation_46 (Activation)      (None, 7, 7, 2048)   0           add_15[0][0]                     \n",
            "__________________________________________________________________________________________________\n",
            "res5c_branch2a (Conv2D)         (None, 7, 7, 512)    1049088     activation_46[0][0]              \n",
            "__________________________________________________________________________________________________\n",
            "bn5c_branch2a (BatchNormalizati (None, 7, 7, 512)    2048        res5c_branch2a[0][0]             \n",
            "__________________________________________________________________________________________________\n",
            "activation_47 (Activation)      (None, 7, 7, 512)    0           bn5c_branch2a[0][0]              \n",
            "__________________________________________________________________________________________________\n",
            "res5c_branch2b (Conv2D)         (None, 7, 7, 512)    2359808     activation_47[0][0]              \n",
            "__________________________________________________________________________________________________\n",
            "bn5c_branch2b (BatchNormalizati (None, 7, 7, 512)    2048        res5c_branch2b[0][0]             \n",
            "__________________________________________________________________________________________________\n",
            "activation_48 (Activation)      (None, 7, 7, 512)    0           bn5c_branch2b[0][0]              \n",
            "__________________________________________________________________________________________________\n",
            "res5c_branch2c (Conv2D)         (None, 7, 7, 2048)   1050624     activation_48[0][0]              \n",
            "__________________________________________________________________________________________________\n",
            "bn5c_branch2c (BatchNormalizati (None, 7, 7, 2048)   8192        res5c_branch2c[0][0]             \n",
            "__________________________________________________________________________________________________\n",
            "add_16 (Add)                    (None, 7, 7, 2048)   0           bn5c_branch2c[0][0]              \n",
            "                                                                 activation_46[0][0]              \n",
            "__________________________________________________________________________________________________\n",
            "activation_49 (Activation)      (None, 7, 7, 2048)   0           add_16[0][0]                     \n",
            "__________________________________________________________________________________________________\n",
            "dense_1 (Dense)                 (None, 7, 7, 1024)   2098176     activation_49[0][0]              \n",
            "__________________________________________________________________________________________________\n",
            "batch_normalization_1 (BatchNor (None, 7, 7, 1024)   4096        dense_1[0][0]                    \n",
            "__________________________________________________________________________________________________\n",
            "activation_50 (Activation)      (None, 7, 7, 1024)   0           batch_normalization_1[0][0]      \n",
            "__________________________________________________________________________________________________\n",
            "dropout_1 (Dropout)             (None, 7, 7, 1024)   0           activation_50[0][0]              \n",
            "__________________________________________________________________________________________________\n",
            "flatten_1 (Flatten)             (None, 50176)        0           dropout_1[0][0]                  \n",
            "__________________________________________________________________________________________________\n",
            "dense_2 (Dense)                 (None, 7)            351239      flatten_1[0][0]                  \n",
            "==================================================================================================\n",
            "Total params: 26,041,223\n",
            "Trainable params: 2,451,463\n",
            "Non-trainable params: 23,589,760\n",
            "__________________________________________________________________________________________________\n"
          ],
          "name": "stdout"
        }
      ]
    },
    {
      "cell_type": "code",
      "metadata": {
        "id": "miWpU1_GsFlE",
        "colab_type": "code",
        "colab": {
          "base_uri": "https://localhost:8080/",
          "height": 74
        },
        "outputId": "4038c82b-5acd-4098-bb85-ac7debfbb78d"
      },
      "source": [
        "model.compile(optimizer='adam',loss='mean_squared_error',metrics=['mse']) #\n",
        "\n",
        "step_size_train=train_generator.n//train_generator.batch_size #It should typically be equal to the number of samples of your dataset divided by the batch size.\n",
        "step_size_valid=validation_generator.n//validation_generator.batch_size"
      ],
      "execution_count": 17,
      "outputs": [
        {
          "output_type": "stream",
          "text": [
            "W0720 19:03:46.315152 140571603695488 deprecation_wrapper.py:119] From /usr/local/lib/python3.6/dist-packages/keras/optimizers.py:790: The name tf.train.Optimizer is deprecated. Please use tf.compat.v1.train.Optimizer instead.\n",
            "\n"
          ],
          "name": "stderr"
        }
      ]
    },
    {
      "cell_type": "code",
      "metadata": {
        "id": "cxw94xaJKoKY",
        "colab_type": "code",
        "outputId": "c3741c53-df5c-47b7-87bf-a0cf6fbed271",
        "colab": {
          "base_uri": "https://localhost:8080/",
          "height": 1000
        }
      },
      "source": [
        "model.fit_generator(train_generator,steps_per_epoch=step_size_train,validation_data=validation_generator,validation_steps=step_size_valid,epochs=100)\n"
      ],
      "execution_count": 18,
      "outputs": [
        {
          "output_type": "stream",
          "text": [
            "Epoch 1/100\n",
            "300/300 [==============================] - 3635s 12s/step - loss: 5.0285 - mean_squared_error: 5.0285 - val_loss: 4.3433 - val_mean_squared_error: 4.3433\n",
            "Epoch 2/100\n",
            "300/300 [==============================] - 235s 783ms/step - loss: 1.6883 - mean_squared_error: 1.6883 - val_loss: 4.0300 - val_mean_squared_error: 4.0300\n",
            "Epoch 3/100\n",
            "300/300 [==============================] - 222s 741ms/step - loss: 1.3178 - mean_squared_error: 1.3178 - val_loss: 3.3465 - val_mean_squared_error: 3.3465\n",
            "Epoch 4/100\n",
            "300/300 [==============================] - 222s 741ms/step - loss: 1.0789 - mean_squared_error: 1.0789 - val_loss: 4.1668 - val_mean_squared_error: 4.1668\n",
            "Epoch 5/100\n",
            "300/300 [==============================] - 218s 727ms/step - loss: 0.9266 - mean_squared_error: 0.9266 - val_loss: 3.8244 - val_mean_squared_error: 3.8244\n",
            "Epoch 6/100\n",
            "300/300 [==============================] - 217s 723ms/step - loss: 0.7765 - mean_squared_error: 0.7765 - val_loss: 3.8041 - val_mean_squared_error: 3.8041\n",
            "Epoch 7/100\n",
            "300/300 [==============================] - 216s 721ms/step - loss: 0.6640 - mean_squared_error: 0.6640 - val_loss: 2.7237 - val_mean_squared_error: 2.7237\n",
            "Epoch 8/100\n",
            "300/300 [==============================] - 215s 717ms/step - loss: 0.5988 - mean_squared_error: 0.5988 - val_loss: 2.7653 - val_mean_squared_error: 2.7653\n",
            "Epoch 9/100\n",
            "300/300 [==============================] - 216s 721ms/step - loss: 0.5481 - mean_squared_error: 0.5481 - val_loss: 2.0670 - val_mean_squared_error: 2.0670\n",
            "Epoch 10/100\n",
            "300/300 [==============================] - 217s 722ms/step - loss: 0.5503 - mean_squared_error: 0.5503 - val_loss: 2.5017 - val_mean_squared_error: 2.5017\n",
            "Epoch 11/100\n",
            "300/300 [==============================] - 216s 720ms/step - loss: 0.5136 - mean_squared_error: 0.5136 - val_loss: 2.3179 - val_mean_squared_error: 2.3179\n",
            "Epoch 12/100\n",
            "300/300 [==============================] - 217s 724ms/step - loss: 0.4542 - mean_squared_error: 0.4542 - val_loss: 2.2929 - val_mean_squared_error: 2.2929\n",
            "Epoch 13/100\n",
            "300/300 [==============================] - 215s 718ms/step - loss: 0.4351 - mean_squared_error: 0.4351 - val_loss: 2.3594 - val_mean_squared_error: 2.3594\n",
            "Epoch 14/100\n",
            "300/300 [==============================] - 216s 719ms/step - loss: 0.4269 - mean_squared_error: 0.4269 - val_loss: 2.2465 - val_mean_squared_error: 2.2465\n",
            "Epoch 15/100\n",
            "300/300 [==============================] - 214s 714ms/step - loss: 0.4115 - mean_squared_error: 0.4115 - val_loss: 2.2415 - val_mean_squared_error: 2.2415\n",
            "Epoch 16/100\n",
            "300/300 [==============================] - 214s 714ms/step - loss: 0.4012 - mean_squared_error: 0.4012 - val_loss: 2.3028 - val_mean_squared_error: 2.3028\n",
            "Epoch 17/100\n",
            "300/300 [==============================] - 214s 714ms/step - loss: 0.4282 - mean_squared_error: 0.4282 - val_loss: 2.3057 - val_mean_squared_error: 2.3057\n",
            "Epoch 18/100\n",
            "300/300 [==============================] - 215s 716ms/step - loss: 0.3969 - mean_squared_error: 0.3969 - val_loss: 2.0986 - val_mean_squared_error: 2.0986\n",
            "Epoch 19/100\n",
            "300/300 [==============================] - 214s 714ms/step - loss: 0.3617 - mean_squared_error: 0.3617 - val_loss: 3.1769 - val_mean_squared_error: 3.1769\n",
            "Epoch 20/100\n",
            "300/300 [==============================] - 215s 716ms/step - loss: 0.3700 - mean_squared_error: 0.3700 - val_loss: 2.6241 - val_mean_squared_error: 2.6241\n",
            "Epoch 21/100\n",
            "300/300 [==============================] - 213s 712ms/step - loss: 0.3550 - mean_squared_error: 0.3550 - val_loss: 2.8506 - val_mean_squared_error: 2.8506\n",
            "Epoch 22/100\n",
            "300/300 [==============================] - 216s 721ms/step - loss: 0.3397 - mean_squared_error: 0.3397 - val_loss: 2.3009 - val_mean_squared_error: 2.3009\n",
            "Epoch 23/100\n",
            "300/300 [==============================] - 219s 730ms/step - loss: 0.3265 - mean_squared_error: 0.3265 - val_loss: 2.5989 - val_mean_squared_error: 2.5989\n",
            "Epoch 24/100\n",
            "300/300 [==============================] - 224s 748ms/step - loss: 0.3379 - mean_squared_error: 0.3379 - val_loss: 2.2106 - val_mean_squared_error: 2.2106\n",
            "Epoch 25/100\n",
            "300/300 [==============================] - 223s 742ms/step - loss: 0.3545 - mean_squared_error: 0.3545 - val_loss: 2.2036 - val_mean_squared_error: 2.2036\n",
            "Epoch 26/100\n",
            "300/300 [==============================] - 224s 747ms/step - loss: 0.3357 - mean_squared_error: 0.3357 - val_loss: 2.5528 - val_mean_squared_error: 2.5528\n",
            "Epoch 27/100\n",
            "300/300 [==============================] - 223s 742ms/step - loss: 0.3262 - mean_squared_error: 0.3262 - val_loss: 2.1839 - val_mean_squared_error: 2.1839\n",
            "Epoch 28/100\n",
            "300/300 [==============================] - 223s 745ms/step - loss: 0.3335 - mean_squared_error: 0.3335 - val_loss: 2.1637 - val_mean_squared_error: 2.1637\n",
            "Epoch 29/100\n",
            "300/300 [==============================] - 225s 750ms/step - loss: 0.3027 - mean_squared_error: 0.3027 - val_loss: 2.2392 - val_mean_squared_error: 2.2392\n",
            "Epoch 30/100\n",
            "300/300 [==============================] - 226s 752ms/step - loss: 0.2982 - mean_squared_error: 0.2982 - val_loss: 2.4389 - val_mean_squared_error: 2.4389\n",
            "Epoch 31/100\n",
            "300/300 [==============================] - 223s 742ms/step - loss: 0.2920 - mean_squared_error: 0.2920 - val_loss: 2.2695 - val_mean_squared_error: 2.2695\n",
            "Epoch 32/100\n",
            "300/300 [==============================] - 225s 750ms/step - loss: 0.3139 - mean_squared_error: 0.3139 - val_loss: 1.9958 - val_mean_squared_error: 1.9958\n",
            "Epoch 33/100\n",
            "300/300 [==============================] - 225s 751ms/step - loss: 0.2939 - mean_squared_error: 0.2939 - val_loss: 2.2024 - val_mean_squared_error: 2.2024\n",
            "Epoch 34/100\n",
            "300/300 [==============================] - 224s 746ms/step - loss: 0.3088 - mean_squared_error: 0.3088 - val_loss: 2.2934 - val_mean_squared_error: 2.2934\n",
            "Epoch 35/100\n",
            "300/300 [==============================] - 225s 751ms/step - loss: 0.2831 - mean_squared_error: 0.2831 - val_loss: 2.1925 - val_mean_squared_error: 2.1925\n",
            "Epoch 36/100\n",
            "300/300 [==============================] - 227s 757ms/step - loss: 0.2728 - mean_squared_error: 0.2728 - val_loss: 2.3981 - val_mean_squared_error: 2.3981\n",
            "Epoch 37/100\n",
            "300/300 [==============================] - 229s 762ms/step - loss: 0.2674 - mean_squared_error: 0.2674 - val_loss: 2.1665 - val_mean_squared_error: 2.1665\n",
            "Epoch 38/100\n",
            "300/300 [==============================] - 227s 758ms/step - loss: 0.2562 - mean_squared_error: 0.2562 - val_loss: 2.5688 - val_mean_squared_error: 2.5688\n",
            "Epoch 39/100\n",
            "300/300 [==============================] - 225s 750ms/step - loss: 0.2722 - mean_squared_error: 0.2722 - val_loss: 2.4516 - val_mean_squared_error: 2.4516\n",
            "Epoch 40/100\n",
            "300/300 [==============================] - 226s 754ms/step - loss: 0.2659 - mean_squared_error: 0.2659 - val_loss: 2.3824 - val_mean_squared_error: 2.3824\n",
            "Epoch 41/100\n",
            "300/300 [==============================] - 227s 757ms/step - loss: 0.2651 - mean_squared_error: 0.2651 - val_loss: 2.1887 - val_mean_squared_error: 2.1887\n",
            "Epoch 42/100\n",
            "300/300 [==============================] - 226s 752ms/step - loss: 0.2512 - mean_squared_error: 0.2512 - val_loss: 2.7095 - val_mean_squared_error: 2.7095\n",
            "Epoch 43/100\n",
            "300/300 [==============================] - 227s 756ms/step - loss: 0.2708 - mean_squared_error: 0.2708 - val_loss: 2.9335 - val_mean_squared_error: 2.9335\n",
            "Epoch 44/100\n",
            "300/300 [==============================] - 227s 758ms/step - loss: 0.2478 - mean_squared_error: 0.2478 - val_loss: 2.5211 - val_mean_squared_error: 2.5211\n",
            "Epoch 45/100\n",
            "300/300 [==============================] - 224s 747ms/step - loss: 0.2462 - mean_squared_error: 0.2462 - val_loss: 2.4448 - val_mean_squared_error: 2.4448\n",
            "Epoch 46/100\n",
            "300/300 [==============================] - 226s 752ms/step - loss: 0.2544 - mean_squared_error: 0.2544 - val_loss: 3.2065 - val_mean_squared_error: 3.2065\n",
            "Epoch 47/100\n",
            "300/300 [==============================] - 227s 756ms/step - loss: 0.2423 - mean_squared_error: 0.2423 - val_loss: 2.3745 - val_mean_squared_error: 2.3745\n",
            "Epoch 48/100\n",
            "300/300 [==============================] - 225s 749ms/step - loss: 0.2569 - mean_squared_error: 0.2569 - val_loss: 2.6808 - val_mean_squared_error: 2.6808\n",
            "Epoch 49/100\n",
            "300/300 [==============================] - 225s 748ms/step - loss: 0.2551 - mean_squared_error: 0.2551 - val_loss: 2.3122 - val_mean_squared_error: 2.3122\n",
            "Epoch 50/100\n",
            "300/300 [==============================] - 225s 751ms/step - loss: 0.2419 - mean_squared_error: 0.2419 - val_loss: 2.8455 - val_mean_squared_error: 2.8455\n",
            "Epoch 51/100\n",
            "300/300 [==============================] - 225s 750ms/step - loss: 0.2345 - mean_squared_error: 0.2345 - val_loss: 2.6059 - val_mean_squared_error: 2.6059\n",
            "Epoch 52/100\n",
            "300/300 [==============================] - 227s 755ms/step - loss: 0.2274 - mean_squared_error: 0.2274 - val_loss: 2.2774 - val_mean_squared_error: 2.2774\n",
            "Epoch 53/100\n",
            "300/300 [==============================] - 226s 753ms/step - loss: 0.2462 - mean_squared_error: 0.2462 - val_loss: 2.7250 - val_mean_squared_error: 2.7250\n",
            "Epoch 54/100\n",
            "300/300 [==============================] - 225s 750ms/step - loss: 0.2259 - mean_squared_error: 0.2259 - val_loss: 2.7571 - val_mean_squared_error: 2.7571\n",
            "Epoch 55/100\n",
            "300/300 [==============================] - 227s 756ms/step - loss: 0.2274 - mean_squared_error: 0.2274 - val_loss: 3.0939 - val_mean_squared_error: 3.0939\n",
            "Epoch 56/100\n",
            "300/300 [==============================] - 226s 753ms/step - loss: 0.2207 - mean_squared_error: 0.2207 - val_loss: 2.7469 - val_mean_squared_error: 2.7469\n",
            "Epoch 57/100\n",
            "300/300 [==============================] - 226s 755ms/step - loss: 0.2277 - mean_squared_error: 0.2277 - val_loss: 3.0089 - val_mean_squared_error: 3.0089\n",
            "Epoch 58/100\n",
            "300/300 [==============================] - 224s 747ms/step - loss: 0.2244 - mean_squared_error: 0.2244 - val_loss: 2.9165 - val_mean_squared_error: 2.9165\n",
            "Epoch 59/100\n",
            "300/300 [==============================] - 227s 755ms/step - loss: 0.2172 - mean_squared_error: 0.2172 - val_loss: 2.5452 - val_mean_squared_error: 2.5452\n",
            "Epoch 60/100\n",
            "300/300 [==============================] - 226s 754ms/step - loss: 0.2235 - mean_squared_error: 0.2235 - val_loss: 2.4158 - val_mean_squared_error: 2.4158\n",
            "Epoch 61/100\n",
            "300/300 [==============================] - 226s 753ms/step - loss: 0.2142 - mean_squared_error: 0.2142 - val_loss: 2.5817 - val_mean_squared_error: 2.5817\n",
            "Epoch 62/100\n",
            "300/300 [==============================] - 227s 757ms/step - loss: 0.2166 - mean_squared_error: 0.2166 - val_loss: 2.9664 - val_mean_squared_error: 2.9664\n",
            "Epoch 63/100\n",
            "300/300 [==============================] - 227s 758ms/step - loss: 0.2111 - mean_squared_error: 0.2111 - val_loss: 2.4193 - val_mean_squared_error: 2.4193\n",
            "Epoch 64/100\n",
            "300/300 [==============================] - 226s 753ms/step - loss: 0.2034 - mean_squared_error: 0.2034 - val_loss: 2.4328 - val_mean_squared_error: 2.4328\n",
            "Epoch 65/100\n",
            "300/300 [==============================] - 225s 749ms/step - loss: 0.2091 - mean_squared_error: 0.2091 - val_loss: 2.4784 - val_mean_squared_error: 2.4784\n",
            "Epoch 66/100\n",
            "300/300 [==============================] - 222s 740ms/step - loss: 0.2064 - mean_squared_error: 0.2064 - val_loss: 2.3775 - val_mean_squared_error: 2.3775\n",
            "Epoch 67/100\n",
            "300/300 [==============================] - 222s 741ms/step - loss: 0.2035 - mean_squared_error: 0.2035 - val_loss: 2.3082 - val_mean_squared_error: 2.3082\n",
            "Epoch 68/100\n",
            "300/300 [==============================] - 222s 742ms/step - loss: 0.2085 - mean_squared_error: 0.2085 - val_loss: 2.4992 - val_mean_squared_error: 2.4992\n",
            "Epoch 69/100\n",
            "300/300 [==============================] - 224s 746ms/step - loss: 0.1981 - mean_squared_error: 0.1981 - val_loss: 2.7847 - val_mean_squared_error: 2.7847\n",
            "Epoch 70/100\n",
            "300/300 [==============================] - 224s 747ms/step - loss: 0.2059 - mean_squared_error: 0.2059 - val_loss: 2.6464 - val_mean_squared_error: 2.6464\n",
            "Epoch 71/100\n",
            "300/300 [==============================] - 222s 740ms/step - loss: 0.1983 - mean_squared_error: 0.1983 - val_loss: 2.4529 - val_mean_squared_error: 2.4529\n",
            "Epoch 72/100\n",
            "300/300 [==============================] - 221s 738ms/step - loss: 0.1909 - mean_squared_error: 0.1909 - val_loss: 2.3010 - val_mean_squared_error: 2.3010\n",
            "Epoch 73/100\n",
            "300/300 [==============================] - 223s 742ms/step - loss: 0.2004 - mean_squared_error: 0.2004 - val_loss: 2.6299 - val_mean_squared_error: 2.6299\n",
            "Epoch 74/100\n",
            "300/300 [==============================] - 223s 743ms/step - loss: 0.1937 - mean_squared_error: 0.1937 - val_loss: 2.5920 - val_mean_squared_error: 2.5920\n",
            "Epoch 75/100\n",
            "300/300 [==============================] - 229s 763ms/step - loss: 0.1915 - mean_squared_error: 0.1915 - val_loss: 2.6984 - val_mean_squared_error: 2.6984\n",
            "Epoch 76/100\n",
            "300/300 [==============================] - 225s 750ms/step - loss: 0.1940 - mean_squared_error: 0.1940 - val_loss: 2.7718 - val_mean_squared_error: 2.7718\n",
            "Epoch 77/100\n",
            "300/300 [==============================] - 225s 751ms/step - loss: 0.1870 - mean_squared_error: 0.1870 - val_loss: 2.4382 - val_mean_squared_error: 2.4382\n",
            "Epoch 78/100\n",
            "300/300 [==============================] - 223s 742ms/step - loss: 0.1842 - mean_squared_error: 0.1842 - val_loss: 2.6956 - val_mean_squared_error: 2.6956\n",
            "Epoch 79/100\n",
            "300/300 [==============================] - 224s 746ms/step - loss: 0.1876 - mean_squared_error: 0.1876 - val_loss: 2.6234 - val_mean_squared_error: 2.6234\n",
            "Epoch 80/100\n",
            "300/300 [==============================] - 224s 747ms/step - loss: 0.1908 - mean_squared_error: 0.1908 - val_loss: 2.9710 - val_mean_squared_error: 2.9710\n",
            "Epoch 81/100\n",
            "300/300 [==============================] - 223s 744ms/step - loss: 0.1830 - mean_squared_error: 0.1830 - val_loss: 2.9398 - val_mean_squared_error: 2.9398\n",
            "Epoch 82/100\n",
            "300/300 [==============================] - 224s 745ms/step - loss: 0.1826 - mean_squared_error: 0.1826 - val_loss: 2.5034 - val_mean_squared_error: 2.5034\n",
            "Epoch 83/100\n",
            "300/300 [==============================] - 226s 752ms/step - loss: 0.1878 - mean_squared_error: 0.1878 - val_loss: 3.0594 - val_mean_squared_error: 3.0594\n",
            "Epoch 84/100\n",
            "300/300 [==============================] - 226s 755ms/step - loss: 0.1847 - mean_squared_error: 0.1847 - val_loss: 2.6619 - val_mean_squared_error: 2.6619\n",
            "Epoch 85/100\n",
            "300/300 [==============================] - 227s 758ms/step - loss: 0.1891 - mean_squared_error: 0.1891 - val_loss: 2.9711 - val_mean_squared_error: 2.9711\n",
            "Epoch 86/100\n",
            "300/300 [==============================] - 226s 753ms/step - loss: 0.1813 - mean_squared_error: 0.1813 - val_loss: 2.7264 - val_mean_squared_error: 2.7264\n",
            "Epoch 87/100\n",
            "300/300 [==============================] - 226s 753ms/step - loss: 0.1852 - mean_squared_error: 0.1852 - val_loss: 2.8653 - val_mean_squared_error: 2.8653\n",
            "Epoch 88/100\n",
            "300/300 [==============================] - 226s 755ms/step - loss: 0.1763 - mean_squared_error: 0.1763 - val_loss: 3.2018 - val_mean_squared_error: 3.2018\n",
            "Epoch 89/100\n",
            "300/300 [==============================] - 227s 757ms/step - loss: 0.1714 - mean_squared_error: 0.1714 - val_loss: 2.9314 - val_mean_squared_error: 2.9314\n",
            "Epoch 90/100\n",
            "300/300 [==============================] - 225s 750ms/step - loss: 0.1797 - mean_squared_error: 0.1797 - val_loss: 3.0558 - val_mean_squared_error: 3.0558\n",
            "Epoch 91/100\n",
            "300/300 [==============================] - 224s 748ms/step - loss: 0.1739 - mean_squared_error: 0.1739 - val_loss: 3.1199 - val_mean_squared_error: 3.1199\n",
            "Epoch 92/100\n",
            "300/300 [==============================] - 224s 747ms/step - loss: 0.1710 - mean_squared_error: 0.1710 - val_loss: 2.8383 - val_mean_squared_error: 2.8383\n",
            "Epoch 93/100\n",
            "300/300 [==============================] - 225s 750ms/step - loss: 0.1731 - mean_squared_error: 0.1731 - val_loss: 2.9882 - val_mean_squared_error: 2.9882\n",
            "Epoch 94/100\n",
            "300/300 [==============================] - 226s 753ms/step - loss: 0.1737 - mean_squared_error: 0.1737 - val_loss: 3.0950 - val_mean_squared_error: 3.0950\n",
            "Epoch 95/100\n",
            "300/300 [==============================] - 224s 748ms/step - loss: 0.1705 - mean_squared_error: 0.1705 - val_loss: 3.4031 - val_mean_squared_error: 3.4031\n",
            "Epoch 96/100\n",
            "300/300 [==============================] - 224s 748ms/step - loss: 0.1690 - mean_squared_error: 0.1690 - val_loss: 3.5551 - val_mean_squared_error: 3.5551\n",
            "Epoch 97/100\n",
            "300/300 [==============================] - 224s 748ms/step - loss: 0.1706 - mean_squared_error: 0.1706 - val_loss: 3.8293 - val_mean_squared_error: 3.8293\n",
            "Epoch 98/100\n",
            "300/300 [==============================] - 227s 755ms/step - loss: 0.1629 - mean_squared_error: 0.1629 - val_loss: 3.0711 - val_mean_squared_error: 3.0711\n",
            "Epoch 99/100\n",
            "300/300 [==============================] - 223s 743ms/step - loss: 0.1675 - mean_squared_error: 0.1675 - val_loss: 3.1829 - val_mean_squared_error: 3.1829\n",
            "Epoch 100/100\n",
            "300/300 [==============================] - 217s 724ms/step - loss: 0.1722 - mean_squared_error: 0.1722 - val_loss: 3.0827 - val_mean_squared_error: 3.0827\n"
          ],
          "name": "stdout"
        },
        {
          "output_type": "execute_result",
          "data": {
            "text/plain": [
              "<keras.callbacks.History at 0x7fd8a5d41cf8>"
            ]
          },
          "metadata": {
            "tags": []
          },
          "execution_count": 18
        }
      ]
    },
    {
      "cell_type": "code",
      "metadata": {
        "id": "gDWsBd8B7N3-",
        "colab_type": "code",
        "outputId": "3ef24d3b-cedc-4606-b11e-ec1ba6867e38",
        "colab": {
          "base_uri": "https://localhost:8080/",
          "height": 295
        }
      },
      "source": [
        "from matplotlib import pyplot as plt\n",
        "#plt.plot(history.history['loss'])\n",
        "#plt.plot(history.history['val_loss'])\n",
        "plt.title('model loss')\n",
        "plt.ylabel('loss')\n",
        "plt.xlabel('epoch')\n",
        "plt.show()\n",
        "#history.history['val_loss']"
      ],
      "execution_count": 20,
      "outputs": [
        {
          "output_type": "display_data",
          "data": {
            "image/png": "[encoded data removed]",
            "text/plain": [
              "<Figure size 432x288 with 1 Axes>"
            ]
          },
          "metadata": {
            "tags": []
          }
        }
      ]
    },
    {
      "cell_type": "code",
      "metadata": {
        "id": "Nq0KUOO68Zhe",
        "colab_type": "code",
        "colab": {}
      },
      "source": [
        "#Evaluating the model\n",
        "test_result=[]\n",
        "with open(os.path.join(dataset_root,'test.json'),'r') as f_eval:\n",
        "  test_list=json.load(f_eval)\n",
        "\n",
        "for img in test_list:\n",
        "  img_path=os.path.join(dataset_root,'images','test',img['filename'])\n",
        "  img_arr=image.load_img(img_path,target_size=(224,224))\n",
        "  x=image.img_to_array(img_arr)\n",
        "  x=preprocess_input(x)\n",
        "  x=np.expand_dims(x,axis=0)\n",
        "  output=model.predict(x)\n",
        "  test_result.append({'filename':img['filename'],'q':output[:4],'r':output[4:]}) "
      ],
      "execution_count": 0,
      "outputs": []
    },
    {
      "cell_type": "code",
      "metadata": {
        "id": "iTSL-rchqaNT",
        "colab_type": "code",
        "colab": {
          "base_uri": "https://localhost:8080/",
          "height": 54
        },
        "outputId": "a4204a87-7be4-419c-889a-dd1932193cac"
      },
      "source": [
        "img_path=os.path.join(dataset_root,'images','test','img000014.jpg')\n",
        "img_arr=image.load_img(img_path,target_size=(224,224))\n",
        "x=image.img_to_array(img_arr)\n",
        "x=preprocess_input(x)\n",
        "x=np.expand_dims(x,axis=0)\n",
        "output=model.predict(x)\n",
        "output"
      ],
      "execution_count": 22,
      "outputs": [
        {
          "output_type": "execute_result",
          "data": {
            "text/plain": [
              "array([[-0.20635211, -0.80298424, -0.18613891,  0.23279394, -0.01594888,\n",
              "        -0.46830305,  7.3466973 ]], dtype=float32)"
            ]
          },
          "metadata": {
            "tags": []
          },
          "execution_count": 22
        }
      ]
    },
    {
      "cell_type": "markdown",
      "metadata": {
        "id": "gRB0Ovqvd3Cl",
        "colab_type": "text"
      },
      "source": [
        ""
      ]
    },
    {
      "cell_type": "code",
      "metadata": {
        "id": "d7DLEGAlvYC0",
        "colab_type": "code",
        "colab": {
          "base_uri": "https://localhost:8080/",
          "height": 54
        },
        "outputId": "3e0a2e71-ae40-4eb4-e957-4b5dead40075"
      },
      "source": [
        "img_path=os.path.join(dataset_root,'images','real','img000187real.jpg')\n",
        "img_arr=image.load_img(img_path,target_size=(224,224))\n",
        "x=image.img_to_array(img_arr)\n",
        "x=preprocess_input(x)\n",
        "x=np.expand_dims(x,axis=0)\n",
        "output=model.predict(x)\n",
        "output"
      ],
      "execution_count": 23,
      "outputs": [
        {
          "output_type": "execute_result",
          "data": {
            "text/plain": [
              "array([[-0.51655227, -0.38868752, -0.10576428,  0.48507518, -0.14137167,\n",
              "        -0.03081699,  2.3164148 ]], dtype=float32)"
            ]
          },
          "metadata": {
            "tags": []
          },
          "execution_count": 23
        }
      ]
    },
    {
      "cell_type": "code",
      "metadata": {
        "id": "-L3bLqJ9gbcP",
        "colab_type": "code",
        "colab": {}
      },
      "source": [
        "rgt =3.3147212478\n",
        "rest =2.3209293745\n"
      ],
      "execution_count": 0,
      "outputs": []
    },
    {
      "cell_type": "code",
      "metadata": {
        "id": "km0nRd55gzRY",
        "colab_type": "code",
        "colab": {}
      },
      "source": [
        "t=LA.norm([rgt-rest],2)/LA.norm([rgt],2)"
      ],
      "execution_count": 0,
      "outputs": []
    },
    {
      "cell_type": "code",
      "metadata": {
        "id": "kP5KfJwuhzSw",
        "colab_type": "code",
        "colab": {
          "base_uri": "https://localhost:8080/",
          "height": 35
        },
        "outputId": "6bf890de-a7fe-44b9-8d9f-43039907414e"
      },
      "source": [
        "t #position_score for image 'img000187real.jpg'"
      ],
      "execution_count": 34,
      "outputs": [
        {
          "output_type": "execute_result",
          "data": {
            "text/plain": [
              "0.2998115977201961"
            ]
          },
          "metadata": {
            "tags": []
          },
          "execution_count": 34
        }
      ]
    },
    {
      "cell_type": "code",
      "metadata": {
        "id": "e37FjDmqh38B",
        "colab_type": "code",
        "colab": {}
      },
      "source": [
        ""
      ],
      "execution_count": 0,
      "outputs": []
    }
  ]
}